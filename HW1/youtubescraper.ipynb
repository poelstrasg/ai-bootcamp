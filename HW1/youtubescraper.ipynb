{
 "cells": [
  {
   "cell_type": "code",
   "execution_count": 1,
   "id": "3373a19e-c0fe-4a07-b5fd-b8dfba57f823",
   "metadata": {
    "scrolled": true
   },
   "outputs": [],
   "source": [
    "# Import Libraries\n",
    "from googleapiclient.discovery import build\n",
    "import pandas as pd\n",
    "from ipywidgets import FileUpload\n",
    "import json"
   ]
  },
  {
   "cell_type": "code",
   "execution_count": 2,
   "id": "215ee388-2608-47d8-8dd3-1f27723f6c76",
   "metadata": {},
   "outputs": [],
   "source": [
    "# Set Up the YouTube API\n",
    "API_KEY = \"YOUR API KEY HERE\" \n",
    "youtube = build('youtube', 'v3', developerKey=API_KEY)"
   ]
  },
  {
   "cell_type": "code",
   "execution_count": 3,
   "id": "81ee5fad-66b0-4ca1-9a4a-32967ff68311",
   "metadata": {},
   "outputs": [
    {
     "data": {
      "application/vnd.jupyter.widget-view+json": {
       "model_id": "3676ef359652415fa8f4534580ac485c",
       "version_major": 2,
       "version_minor": 0
      },
      "text/plain": [
       "FileUpload(value=(), accept='.csv', description='Upload')"
      ]
     },
     "metadata": {},
     "output_type": "display_data"
    },
    {
     "data": {
      "application/vnd.jupyter.widget-view+json": {
       "model_id": "f6ef93aaec3b4c66ba50cf832e341b68",
       "version_major": 2,
       "version_minor": 0
      },
      "text/plain": [
       "Button(description='Confirm Upload', style=ButtonStyle())"
      ]
     },
     "metadata": {},
     "output_type": "display_data"
    }
   ],
   "source": [
    "import ipywidgets as widgets\n",
    "from IPython.display import display\n",
    "\n",
    "# Create File Upload Widget\n",
    "upload = FileUpload(accept='.csv', multiple=False)\n",
    "\n",
    "# Create a Button to Confirm Upload\n",
    "button = widgets.Button(description=\"Confirm Upload\")\n",
    "\n",
    "# Display Widgets\n",
    "display(upload, button)\n",
    "\n",
    "# Define a Callback for the Button\n",
    "def on_button_click(b):\n",
    "    if upload.value:\n",
    "        print(\"File uploaded successfully!\")\n",
    "    else:\n",
    "        print(\"No file uploaded. Please upload a file.\")\n",
    "\n",
    "# Link Button to Callback\n",
    "button.on_click(on_button_click)\n",
    "\n"
   ]
  },
  {
   "cell_type": "code",
   "execution_count": 4,
   "id": "62548286-8548-4f28-b35f-f68d6fb853f8",
   "metadata": {},
   "outputs": [
    {
     "name": "stdout",
     "output_type": "stream",
     "text": [
      "Search terms loaded: ['weatherproof decks', 'types of decks', 'deck diy ', 'composite deck']\n"
     ]
    }
   ],
   "source": [
    "# Process Uploaded File\n",
    "import pandas as pd\n",
    "import io\n",
    "\n",
    "# Process Uploaded File\n",
    "if upload.value:\n",
    "    uploaded_file = upload.value[0]  # Access the first file in the tuple\n",
    "    content = uploaded_file['content'].tobytes().decode('utf-8')  # Convert memory to bytes, then decode\n",
    "    search_terms = pd.read_csv(io.StringIO(content)).iloc[:, 0].tolist()  # Extract terms from the first column\n",
    "    print(f\"Search terms loaded: {search_terms}\")\n",
    "else:\n",
    "    print(\"Please upload a CSV file.\")\n",
    "\n"
   ]
  },
  {
   "cell_type": "code",
   "execution_count": 5,
   "id": "33345f35-4a5d-4591-80dd-57c8de8af5d6",
   "metadata": {},
   "outputs": [],
   "source": [
    "import json\n",
    "from pathlib import Path\n",
    "\n",
    "# File to store cached category mapping\n",
    "CATEGORY_CACHE_FILE = Path(\"category_mapping.json\")\n",
    "\n",
    "def get_video_categories():\n",
    "    \"\"\"\n",
    "    Fetch video category mappings (ID to name) and cache them for efficiency.\n",
    "    \"\"\"\n",
    "    # Check if the cache file exists\n",
    "    if CATEGORY_CACHE_FILE.exists():\n",
    "        with open(CATEGORY_CACHE_FILE, \"r\") as f:\n",
    "            print(\"Using cached category mapping.\")\n",
    "            return json.load(f)  # Load the cached mapping\n",
    "\n",
    "    # Fetch category mapping from the YouTube API\n",
    "    response = youtube.videoCategories().list(\n",
    "        part=\"snippet\",\n",
    "        regionCode=\"US\"  # Specify the region for categories\n",
    "    ).execute()\n",
    "\n",
    "    # Create a mapping of category ID to category name\n",
    "    category_mapping = {\n",
    "        item['id']: item['snippet']['title']\n",
    "        for item in response['items']\n",
    "    }\n",
    "\n",
    "    # Cache the mapping for future use\n",
    "    with open(CATEGORY_CACHE_FILE, \"w\") as f:\n",
    "        json.dump(category_mapping, f)\n",
    "        print(\"Category mapping cached.\")\n",
    "\n",
    "    return category_mapping\n",
    "\n",
    "\n",
    "def fetch_youtube_data(search_term, max_results=10):\n",
    "    \"\"\"\n",
    "    Fetch video data for a given search term, including mapped category names.\n",
    "    \"\"\"\n",
    "    # Get the cached or fresh category mapping\n",
    "    category_mapping = get_video_categories()\n",
    "\n",
    "    # Make a search request to fetch video IDs and snippet\n",
    "    search_response = youtube.search().list(\n",
    "        q=search_term,\n",
    "        part=\"snippet\",\n",
    "        type=\"video\",\n",
    "        maxResults=max_results\n",
    "    ).execute()\n",
    "\n",
    "    # Extract video IDs from the search response\n",
    "    video_ids = [item['id']['videoId'] for item in search_response['items']]\n",
    "\n",
    "    # Fetch additional details for the videos\n",
    "    stats_response = youtube.videos().list(\n",
    "        part=\"snippet,statistics,contentDetails\",\n",
    "        id=\",\".join(video_ids)  # Join video IDs into a comma-separated string\n",
    "    ).execute()\n",
    "\n",
    "    video_data = []\n",
    "\n",
    "    # Process each video\n",
    "    for idx, item in enumerate(stats_response['items'], start=1):\n",
    "        try:\n",
    "            stats = item.get('statistics', {})\n",
    "            content_details = item.get('contentDetails', {})\n",
    "            category_id = item['snippet'].get('categoryId', 'N/A')\n",
    "\n",
    "            # Combine video details with statistics\n",
    "            video_details = {\n",
    "                'Search Term': search_term,\n",
    "                'Position': idx,\n",
    "                'Video Title': item['snippet']['title'],\n",
    "                'Channel Name': item['snippet']['channelTitle'],\n",
    "                'Published Date': item['snippet']['publishedAt'],\n",
    "                'Description': item['snippet']['description'],\n",
    "                'Video URL': f\"https://www.youtube.com/watch?v={item['id']}\",\n",
    "                'View Count': stats.get('viewCount', 'N/A'),\n",
    "                'Like Count': stats.get('likeCount', 'N/A'),\n",
    "                'Comments Count': stats.get('commentCount', 'N/A'),\n",
    "                'Duration': content_details.get('duration', 'N/A'),\n",
    "                'Thumbnail URL': item['snippet']['thumbnails']['default']['url'],\n",
    "                'Live Status': item['snippet'].get('liveBroadcastContent', 'N/A'),\n",
    "                'Category Name': category_mapping.get(category_id, 'Unknown')  # Map ID to name\n",
    "            }\n",
    "            video_data.append(video_details)\n",
    "\n",
    "        except KeyError as e:\n",
    "            print(f\"KeyError for video: {e}, skipping...\")\n",
    "        except Exception as e:\n",
    "            print(f\"Error processing video: {e}, skipping...\")\n",
    "\n",
    "    return video_data\n",
    "\n"
   ]
  },
  {
   "cell_type": "code",
   "execution_count": 6,
   "id": "c7b0d3c4-f649-4fae-a138-0b6716aae47f",
   "metadata": {},
   "outputs": [
    {
     "name": "stdout",
     "output_type": "stream",
     "text": [
      "Fetching data for search term: weatherproof decks\n",
      "Category mapping cached.\n",
      "Fetching data for search term: types of decks\n",
      "Using cached category mapping.\n",
      "Fetching data for search term: deck diy \n",
      "Using cached category mapping.\n",
      "Fetching data for search term: composite deck\n",
      "Using cached category mapping.\n"
     ]
    }
   ],
   "source": [
    "# Fetch Data for All Search Terms\n",
    "all_video_data = []\n",
    "\n",
    "try:\n",
    "    for term in search_terms:\n",
    "        print(f\"Fetching data for search term: {term}\")\n",
    "        video_data = fetch_youtube_data(term, max_results=10)\n",
    "        all_video_data.extend(video_data)\n",
    "except Exception as e:\n",
    "    print(f\"An error occurred: {e}\")\n",
    "    raise  # Stop execution on error"
   ]
  },
  {
   "cell_type": "code",
   "execution_count": 7,
   "id": "6735d6ee-e84c-4fa2-81a2-af5a05ec9429",
   "metadata": {},
   "outputs": [
    {
     "name": "stdout",
     "output_type": "stream",
     "text": [
      "Data saved to youtube_data_with_positions.csv\n"
     ]
    }
   ],
   "source": [
    "# Convert to DataFrame and Save to CSV\n",
    "df = pd.DataFrame(all_video_data)\n",
    "output_file = \"youtube_data_with_positions.csv\"\n",
    "df.to_csv(output_file, index=False)\n",
    "print(f\"Data saved to {output_file}\")"
   ]
  },
  {
   "cell_type": "code",
   "execution_count": null,
   "id": "7c544622-42ce-450f-bd97-d4d810ada80d",
   "metadata": {},
   "outputs": [],
   "source": []
  }
 ],
 "metadata": {
  "kernelspec": {
   "display_name": "Python 3 (ipykernel)",
   "language": "python",
   "name": "python3"
  },
  "language_info": {
   "codemirror_mode": {
    "name": "ipython",
    "version": 3
   },
   "file_extension": ".py",
   "mimetype": "text/x-python",
   "name": "python",
   "nbconvert_exporter": "python",
   "pygments_lexer": "ipython3",
   "version": "3.13.1"
  }
 },
 "nbformat": 4,
 "nbformat_minor": 5
}
